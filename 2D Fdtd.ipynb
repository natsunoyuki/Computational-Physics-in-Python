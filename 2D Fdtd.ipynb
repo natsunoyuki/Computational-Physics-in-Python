{
 "cells": [
  {
   "cell_type": "code",
   "execution_count": 1,
   "metadata": {},
   "outputs": [
    {
     "name": "stdout",
     "output_type": "stream",
     "text": [
      "E_z.shape: (101, 101), H_x.shape: (101, 100), H_y.shape: (100, 101)\n",
      "(101, 100)\n",
      "(100, 101)\n"
     ]
    }
   ],
   "source": [
    "import numpy as np\n",
    "import matplotlib.pyplot as plt\n",
    "from matplotlib.animation import FuncAnimation\n",
    "\n",
    "Nx = 101\n",
    "Ny = 101\n",
    "\n",
    "c = 1\n",
    "dx = 1\n",
    "dy = 1\n",
    "dt = min(dx, dy) / np.sqrt(2) / c\n",
    "\n",
    "x = np.arange(Nx)\n",
    "y = np.arange(Ny)\n",
    "X, Y = np.meshgrid(x, y)\n",
    "\n",
    "source_x = int(Nx / 2)\n",
    "source_y = int(Ny / 2)\n",
    "\n",
    "E_z = np.zeros([Nx, Ny])\n",
    "H_x = np.zeros([Nx, Ny - 1])\n",
    "H_y = np.zeros([Nx - 1, Ny])\n",
    "\n",
    "E_t = []\n",
    "\n",
    "E_z_n = E_z.copy()\n",
    "E_z_n_1 = E_z_n.copy()\n",
    "H_x_n = H_x.copy()\n",
    "H_x_n_1 = H_x_n.copy()\n",
    "H_y_n = H_x.copy()\n",
    "H_y_n_1 = H_y_n.copy()\n",
    "\n",
    "print(\"E_z.shape: {}, H_x.shape: {}, H_y.shape: {}\".format(E_z.shape, H_x.shape, H_y.shape))\n",
    "print(np.shape(E_z[:, 1:] - E_z[:, :-1]))\n",
    "print(np.shape(E_z[1:, :] - E_z[:-1, :]))"
   ]
  },
  {
   "cell_type": "code",
   "execution_count": 2,
   "metadata": {},
   "outputs": [],
   "source": [
    "n_iter = 150\n",
    "\n",
    "for n in range(n_iter):\n",
    "    # Update magnetic fields at time step n+1/2\n",
    "    H_x = H_x - dt / dx * (E_z[:, 1:] - E_z[:, :-1])\n",
    "    H_y = H_y + dt / dx * (E_z[1:, :] - E_z[:-1, :])\n",
    "    \n",
    "    # Update electric field at time step n+1\n",
    "    diff_H_x = dt / dx * (H_x[1:-1, 1:] - H_x[1:-1, :-1])\n",
    "    diff_H_y = dt / dx * (H_y[1:, 1:-1] - H_y[:-1, 1:-1])\n",
    "    E_z[1:-1, 1:-1] = E_z[1:-1, 1:-1] + (diff_H_y - diff_H_x)\n",
    "    \n",
    "    # Pulse at time step n+1\n",
    "    pulse = (np.pi * ((1 / np.sqrt(2) * n) / 20 - 1))**2\n",
    "    pulse = (1 - 2 * pulse) * np.exp(-pulse)\n",
    "    E_z[source_x, source_y] = E_z[source_x, source_y] + pulse\n",
    "    \n",
    "    # ABC for top boundary\n",
    "    temp1 = np.sqrt(dt / dx * dt / dx)\n",
    "    temp2 = 1 / temp1 + 2 + temp1\n",
    "    coef0 = -(1 / temp1 - 2 + temp1) / temp2\n",
    "    coef1 = -2 * (temp1 - 1 / temp1) / temp2\n",
    "    coef2 = 4 * (temp1 + 1 / temp1) / temp2\n",
    "    E_z[0, :] = coef0 * (E_z[2, :] + E_z_n_1[0, :]) + \\\n",
    "                coef1 * (E_z_n[0, :] + E_z_n[2, :] - E_z[1, :] - E_z_n_1[1, :]) + \\\n",
    "                coef2 * E_z_n[1, :] - E_z_n_1[2, :]\n",
    "    \n",
    "    # ABC for bottom boundary\n",
    "    E_z[-1, :] = coef0 * (E_z[-3, :] + E_z_n_1[-1, :]) + \\\n",
    "                coef1 * (E_z_n[-1, :] + E_z_n[-3, :] - E_z[-2, :] - E_z_n_1[-2, :]) + \\\n",
    "                coef2 * E_z_n[-2, :] - E_z_n_1[-3, :]\n",
    "    \n",
    "    # ABC for left boundary\n",
    "    E_z[:, 0] = coef0 * (E_z[:, 2] + E_z_n_1[:, 0]) + \\\n",
    "                coef1 * (E_z_n[:, 0] + E_z_n[:, 2] - E_z[:, 1] - E_z_n_1[:, 1]) + \\\n",
    "                coef2 * E_z_n[:, 1] - E_z_n_1[:, 2]\n",
    "    \n",
    "    # ABC for right boundary\n",
    "    E_z[:, -1] = coef0 * (E_z[:, -3] + E_z_n_1[:, -1]) + \\\n",
    "                coef1 * (E_z_n[:, -1] + E_z_n[:, -3] - E_z[:, -2] - E_z_n_1[:, -2]) + \\\n",
    "                coef2 * E_z_n[:, -2] - E_z_n_1[:, -3]\n",
    "    \n",
    "    # Store magnetic and electric fields for ABC at time step n\n",
    "    H_x_n_1 = H_x_n.copy() # data for t = n-1\n",
    "    H_x_n = H_x.copy()     # data for t = n\n",
    "\n",
    "    H_y_n_1 = H_y_n.copy() # data for t = n-1\n",
    "    H_y_n = H_y.copy()     # data for t = n\n",
    "    \n",
    "    E_z_n_1 = E_z_n.copy() # data for t = n-1\n",
    "    E_z_n = E_z.copy()     # data for t = n\n",
    "    \n",
    "    #E_t.append(E_z[source_x, source_y])\n",
    "    E_t.append(E_z.copy())"
   ]
  },
  {
   "cell_type": "code",
   "execution_count": 3,
   "metadata": {},
   "outputs": [
    {
     "data": {
      "image/png": "[encoded data removed]",
      "text/plain": [
       "<Figure size 720x720 with 2 Axes>"
      ]
     },
     "metadata": {
      "needs_background": "light"
     },
     "output_type": "display_data"
    }
   ],
   "source": [
    "plt.figure(figsize = (10, 10))\n",
    "plt.pcolormesh(x, y, E_z, shading = \"auto\", cmap = \"gray\")\n",
    "plt.axis(\"equal\")\n",
    "plt.xlabel(\"x\")\n",
    "plt.ylabel(\"y\")\n",
    "plt.grid(True)\n",
    "plt.axis(\"equal\")\n",
    "plt.colorbar()\n",
    "plt.clim(-0.03, 0.03)\n",
    "plt.show()"
   ]
  },
  {
   "cell_type": "code",
   "execution_count": 4,
   "metadata": {},
   "outputs": [
    {
     "data": {
      "image/png": "[encoded data removed]",
      "text/plain": [
       "<Figure size 720x720 with 1 Axes>"
      ]
     },
     "metadata": {
      "needs_background": "light"
     },
     "output_type": "display_data"
    }
   ],
   "source": [
    "if False:\n",
    "    fig, ax = plt.subplots(figsize = (10, 10))\n",
    "    cax = ax.pcolormesh(x, y, E_t[0], shading = \"auto\", cmap = \"gray\")\n",
    "    plt.axis(\"equal\")\n",
    "\n",
    "    def animate(i):\n",
    "         cax.set_array(E_t[i].flatten())\n",
    "\n",
    "    anim = FuncAnimation(fig, animate, interval = 50, frames = len(E_t) - 1)\n",
    "\n",
    "    plt.show()\n",
    "\n",
    "    anim.save(\"fdtd_animation.gif\", writer = \"pillow\")"
   ]
  },
  {
   "cell_type": "code",
   "execution_count": null,
   "metadata": {},
   "outputs": [],
   "source": []
  }
 ],
 "metadata": {
  "kernelspec": {
   "display_name": "Python 3",
   "language": "python",
   "name": "python3"
  },
  "language_info": {
   "codemirror_mode": {
    "name": "ipython",
    "version": 3
   },
   "file_extension": ".py",
   "mimetype": "text/x-python",
   "name": "python",
   "nbconvert_exporter": "python",
   "pygments_lexer": "ipython3",
   "version": "3.7.9"
  }
 },
 "nbformat": 4,
 "nbformat_minor": 4
}
